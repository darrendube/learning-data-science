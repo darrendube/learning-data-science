{
 "cells": [
  {
   "cell_type": "code",
   "execution_count": 1,
   "metadata": {
    "collapsed": true,
    "pycharm": {
     "name": "#%%\n"
    }
   },
   "outputs": [],
   "source": [
    "import pandas as pd"
   ]
  },
  {
   "cell_type": "code",
   "execution_count": 2,
   "outputs": [
    {
     "data": {
      "text/plain": "   cars  planes\n0     3       7\n1     4       4\n2     6       2\n3     2       4",
      "text/html": "<div>\n<style scoped>\n    .dataframe tbody tr th:only-of-type {\n        vertical-align: middle;\n    }\n\n    .dataframe tbody tr th {\n        vertical-align: top;\n    }\n\n    .dataframe thead th {\n        text-align: right;\n    }\n</style>\n<table border=\"1\" class=\"dataframe\">\n  <thead>\n    <tr style=\"text-align: right;\">\n      <th></th>\n      <th>cars</th>\n      <th>planes</th>\n    </tr>\n  </thead>\n  <tbody>\n    <tr>\n      <th>0</th>\n      <td>3</td>\n      <td>7</td>\n    </tr>\n    <tr>\n      <th>1</th>\n      <td>4</td>\n      <td>4</td>\n    </tr>\n    <tr>\n      <th>2</th>\n      <td>6</td>\n      <td>2</td>\n    </tr>\n    <tr>\n      <th>3</th>\n      <td>2</td>\n      <td>4</td>\n    </tr>\n  </tbody>\n</table>\n</div>"
     },
     "execution_count": 2,
     "metadata": {},
     "output_type": "execute_result"
    }
   ],
   "source": [
    "# creating a dataframe from scratch\n",
    "# each key-value pair corresponds to a column in dataframe\n",
    "\n",
    "mydata = {\n",
    "    'cars': [3,4,6,2],\n",
    "    'planes': [7,4,2,4]\n",
    "}\n",
    "\n",
    "pd.DataFrame(mydata)"
   ],
   "metadata": {
    "collapsed": false,
    "pycharm": {
     "name": "#%%\n"
    }
   }
  },
  {
   "cell_type": "code",
   "execution_count": 3,
   "outputs": [
    {
     "data": {
      "text/plain": "     cars  planes\nMon     3       7\nTue     4       4\nWed     6       2\nThu     2       4",
      "text/html": "<div>\n<style scoped>\n    .dataframe tbody tr th:only-of-type {\n        vertical-align: middle;\n    }\n\n    .dataframe tbody tr th {\n        vertical-align: top;\n    }\n\n    .dataframe thead th {\n        text-align: right;\n    }\n</style>\n<table border=\"1\" class=\"dataframe\">\n  <thead>\n    <tr style=\"text-align: right;\">\n      <th></th>\n      <th>cars</th>\n      <th>planes</th>\n    </tr>\n  </thead>\n  <tbody>\n    <tr>\n      <th>Mon</th>\n      <td>3</td>\n      <td>7</td>\n    </tr>\n    <tr>\n      <th>Tue</th>\n      <td>4</td>\n      <td>4</td>\n    </tr>\n    <tr>\n      <th>Wed</th>\n      <td>6</td>\n      <td>2</td>\n    </tr>\n    <tr>\n      <th>Thu</th>\n      <td>2</td>\n      <td>4</td>\n    </tr>\n  </tbody>\n</table>\n</div>"
     },
     "execution_count": 3,
     "metadata": {},
     "output_type": "execute_result"
    }
   ],
   "source": [
    "# index created automatically, but we can customise them\n",
    "\n",
    "transport = pd.DataFrame(mydata, index=['Mon', 'Tue', 'Wed','Thu'])\n",
    "transport"
   ],
   "metadata": {
    "collapsed": false,
    "pycharm": {
     "name": "#%%\n"
    }
   }
  },
  {
   "cell_type": "code",
   "execution_count": 4,
   "outputs": [
    {
     "data": {
      "text/plain": "cars      3\nplanes    7\nName: Mon, dtype: int64"
     },
     "execution_count": 4,
     "metadata": {},
     "output_type": "execute_result"
    }
   ],
   "source": [
    "# we can locate a row using the index\n",
    "transport.loc['Mon']"
   ],
   "metadata": {
    "collapsed": false,
    "pycharm": {
     "name": "#%%\n"
    }
   }
  },
  {
   "cell_type": "code",
   "execution_count": 5,
   "outputs": [
    {
     "data": {
      "text/plain": "       age gender     split     final\n0       33      M  01:05:38  02:08:51\n1       32      M  01:06:26  02:09:28\n2       31      M  01:06:49  02:10:42\n3       38      M  01:06:16  02:13:45\n4       31      M  01:06:32  02:13:59\n...    ...    ...       ...       ...\n37245   18      M  04:24:24  09:32:57\n37246   36      M  04:35:43  09:33:28\n37247   51      M  04:22:35  09:33:40\n37248   55      W  04:58:06  10:00:40\n37249   58      W  04:59:49  10:01:08\n\n[37250 rows x 4 columns]",
      "text/html": "<div>\n<style scoped>\n    .dataframe tbody tr th:only-of-type {\n        vertical-align: middle;\n    }\n\n    .dataframe tbody tr th {\n        vertical-align: top;\n    }\n\n    .dataframe thead th {\n        text-align: right;\n    }\n</style>\n<table border=\"1\" class=\"dataframe\">\n  <thead>\n    <tr style=\"text-align: right;\">\n      <th></th>\n      <th>age</th>\n      <th>gender</th>\n      <th>split</th>\n      <th>final</th>\n    </tr>\n  </thead>\n  <tbody>\n    <tr>\n      <th>0</th>\n      <td>33</td>\n      <td>M</td>\n      <td>01:05:38</td>\n      <td>02:08:51</td>\n    </tr>\n    <tr>\n      <th>1</th>\n      <td>32</td>\n      <td>M</td>\n      <td>01:06:26</td>\n      <td>02:09:28</td>\n    </tr>\n    <tr>\n      <th>2</th>\n      <td>31</td>\n      <td>M</td>\n      <td>01:06:49</td>\n      <td>02:10:42</td>\n    </tr>\n    <tr>\n      <th>3</th>\n      <td>38</td>\n      <td>M</td>\n      <td>01:06:16</td>\n      <td>02:13:45</td>\n    </tr>\n    <tr>\n      <th>4</th>\n      <td>31</td>\n      <td>M</td>\n      <td>01:06:32</td>\n      <td>02:13:59</td>\n    </tr>\n    <tr>\n      <th>...</th>\n      <td>...</td>\n      <td>...</td>\n      <td>...</td>\n      <td>...</td>\n    </tr>\n    <tr>\n      <th>37245</th>\n      <td>18</td>\n      <td>M</td>\n      <td>04:24:24</td>\n      <td>09:32:57</td>\n    </tr>\n    <tr>\n      <th>37246</th>\n      <td>36</td>\n      <td>M</td>\n      <td>04:35:43</td>\n      <td>09:33:28</td>\n    </tr>\n    <tr>\n      <th>37247</th>\n      <td>51</td>\n      <td>M</td>\n      <td>04:22:35</td>\n      <td>09:33:40</td>\n    </tr>\n    <tr>\n      <th>37248</th>\n      <td>55</td>\n      <td>W</td>\n      <td>04:58:06</td>\n      <td>10:00:40</td>\n    </tr>\n    <tr>\n      <th>37249</th>\n      <td>58</td>\n      <td>W</td>\n      <td>04:59:49</td>\n      <td>10:01:08</td>\n    </tr>\n  </tbody>\n</table>\n<p>37250 rows × 4 columns</p>\n</div>"
     },
     "execution_count": 5,
     "metadata": {},
     "output_type": "execute_result"
    }
   ],
   "source": [
    "# to read data from CSV\n",
    "# you can choose a column in data as an index using argument index_col=*\n",
    "\n",
    "marathon = pd.read_csv('marathon-data.csv')\n",
    "marathon"
   ],
   "metadata": {
    "collapsed": false,
    "pycharm": {
     "name": "#%%\n"
    }
   }
  },
  {
   "cell_type": "code",
   "execution_count": 6,
   "outputs": [],
   "source": [
    "# to convert a DataFrame to csv\n",
    "pd.DataFrame(mydata).to_csv('my_data.csv')"
   ],
   "metadata": {
    "collapsed": false,
    "pycharm": {
     "name": "#%%\n"
    }
   }
  },
  {
   "cell_type": "code",
   "execution_count": 7,
   "outputs": [
    {
     "data": {
      "text/plain": "   age gender     split     final\n0   33      M  01:05:38  02:08:51\n1   32      M  01:06:26  02:09:28\n2   31      M  01:06:49  02:10:42\n3   38      M  01:06:16  02:13:45\n4   31      M  01:06:32  02:13:59",
      "text/html": "<div>\n<style scoped>\n    .dataframe tbody tr th:only-of-type {\n        vertical-align: middle;\n    }\n\n    .dataframe tbody tr th {\n        vertical-align: top;\n    }\n\n    .dataframe thead th {\n        text-align: right;\n    }\n</style>\n<table border=\"1\" class=\"dataframe\">\n  <thead>\n    <tr style=\"text-align: right;\">\n      <th></th>\n      <th>age</th>\n      <th>gender</th>\n      <th>split</th>\n      <th>final</th>\n    </tr>\n  </thead>\n  <tbody>\n    <tr>\n      <th>0</th>\n      <td>33</td>\n      <td>M</td>\n      <td>01:05:38</td>\n      <td>02:08:51</td>\n    </tr>\n    <tr>\n      <th>1</th>\n      <td>32</td>\n      <td>M</td>\n      <td>01:06:26</td>\n      <td>02:09:28</td>\n    </tr>\n    <tr>\n      <th>2</th>\n      <td>31</td>\n      <td>M</td>\n      <td>01:06:49</td>\n      <td>02:10:42</td>\n    </tr>\n    <tr>\n      <th>3</th>\n      <td>38</td>\n      <td>M</td>\n      <td>01:06:16</td>\n      <td>02:13:45</td>\n    </tr>\n    <tr>\n      <th>4</th>\n      <td>31</td>\n      <td>M</td>\n      <td>01:06:32</td>\n      <td>02:13:59</td>\n    </tr>\n  </tbody>\n</table>\n</div>"
     },
     "execution_count": 7,
     "metadata": {},
     "output_type": "execute_result"
    }
   ],
   "source": [
    "# head() shows a few rows of the dataframe as reference. Shows first 5 rows\n",
    "marathon.head()"
   ],
   "metadata": {
    "collapsed": false,
    "pycharm": {
     "name": "#%%\n"
    }
   }
  },
  {
   "cell_type": "code",
   "execution_count": 8,
   "outputs": [
    {
     "data": {
      "text/plain": "       age gender     split     final\n37245   18      M  04:24:24  09:32:57\n37246   36      M  04:35:43  09:33:28\n37247   51      M  04:22:35  09:33:40\n37248   55      W  04:58:06  10:00:40\n37249   58      W  04:59:49  10:01:08",
      "text/html": "<div>\n<style scoped>\n    .dataframe tbody tr th:only-of-type {\n        vertical-align: middle;\n    }\n\n    .dataframe tbody tr th {\n        vertical-align: top;\n    }\n\n    .dataframe thead th {\n        text-align: right;\n    }\n</style>\n<table border=\"1\" class=\"dataframe\">\n  <thead>\n    <tr style=\"text-align: right;\">\n      <th></th>\n      <th>age</th>\n      <th>gender</th>\n      <th>split</th>\n      <th>final</th>\n    </tr>\n  </thead>\n  <tbody>\n    <tr>\n      <th>37245</th>\n      <td>18</td>\n      <td>M</td>\n      <td>04:24:24</td>\n      <td>09:32:57</td>\n    </tr>\n    <tr>\n      <th>37246</th>\n      <td>36</td>\n      <td>M</td>\n      <td>04:35:43</td>\n      <td>09:33:28</td>\n    </tr>\n    <tr>\n      <th>37247</th>\n      <td>51</td>\n      <td>M</td>\n      <td>04:22:35</td>\n      <td>09:33:40</td>\n    </tr>\n    <tr>\n      <th>37248</th>\n      <td>55</td>\n      <td>W</td>\n      <td>04:58:06</td>\n      <td>10:00:40</td>\n    </tr>\n    <tr>\n      <th>37249</th>\n      <td>58</td>\n      <td>W</td>\n      <td>04:59:49</td>\n      <td>10:01:08</td>\n    </tr>\n  </tbody>\n</table>\n</div>"
     },
     "execution_count": 8,
     "metadata": {},
     "output_type": "execute_result"
    }
   ],
   "source": [
    "# shows last 5 rows\n",
    "marathon.tail()"
   ],
   "metadata": {
    "collapsed": false,
    "pycharm": {
     "name": "#%%\n"
    }
   }
  },
  {
   "cell_type": "code",
   "execution_count": 9,
   "outputs": [
    {
     "name": "stdout",
     "output_type": "stream",
     "text": [
      "<class 'pandas.core.frame.DataFrame'>\n",
      "RangeIndex: 37250 entries, 0 to 37249\n",
      "Data columns (total 4 columns):\n",
      " #   Column  Non-Null Count  Dtype \n",
      "---  ------  --------------  ----- \n",
      " 0   age     37250 non-null  int64 \n",
      " 1   gender  37250 non-null  object\n",
      " 2   split   37250 non-null  object\n",
      " 3   final   37250 non-null  object\n",
      "dtypes: int64(1), object(3)\n",
      "memory usage: 1.1+ MB\n"
     ]
    }
   ],
   "source": [
    "# info() shows information about dataframe\n",
    "marathon.info()"
   ],
   "metadata": {
    "collapsed": false,
    "pycharm": {
     "name": "#%%\n"
    }
   }
  },
  {
   "cell_type": "code",
   "execution_count": 10,
   "outputs": [
    {
     "data": {
      "text/plain": "(37250, 4)"
     },
     "execution_count": 10,
     "metadata": {},
     "output_type": "execute_result"
    }
   ],
   "source": [
    "marathon.shape"
   ],
   "metadata": {
    "collapsed": false,
    "pycharm": {
     "name": "#%%\n"
    }
   }
  },
  {
   "cell_type": "code",
   "execution_count": 11,
   "outputs": [
    {
     "name": "stderr",
     "output_type": "stream",
     "text": [
      "C:\\Program Files\\KMSpico\\temp\\ipykernel_19228\\1392031563.py:2: FutureWarning: The frame.append method is deprecated and will be removed from pandas in a future version. Use pandas.concat instead.\n",
      "  temp_df = marathon.append(marathon)\n"
     ]
    },
    {
     "data": {
      "text/plain": "(74500, 4)"
     },
     "execution_count": 11,
     "metadata": {},
     "output_type": "execute_result"
    }
   ],
   "source": [
    "# append() adds items to the dataframe\n",
    "temp_df = marathon.append(marathon)\n",
    "temp_df.shape"
   ],
   "metadata": {
    "collapsed": false,
    "pycharm": {
     "name": "#%%\n"
    }
   }
  },
  {
   "cell_type": "markdown",
   "source": [
    "## Handling duplicates"
   ],
   "metadata": {
    "collapsed": false,
    "pycharm": {
     "name": "#%% md\n"
    }
   }
  },
  {
   "cell_type": "code",
   "execution_count": 12,
   "outputs": [
    {
     "data": {
      "text/plain": "       age gender     split     final\n0       33      M  01:05:38  02:08:51\n1       32      M  01:06:26  02:09:28\n2       31      M  01:06:49  02:10:42\n3       38      M  01:06:16  02:13:45\n4       31      M  01:06:32  02:13:59\n...    ...    ...       ...       ...\n37245   18      M  04:24:24  09:32:57\n37246   36      M  04:35:43  09:33:28\n37247   51      M  04:22:35  09:33:40\n37248   55      W  04:58:06  10:00:40\n37249   58      W  04:59:49  10:01:08\n\n[37250 rows x 4 columns]",
      "text/html": "<div>\n<style scoped>\n    .dataframe tbody tr th:only-of-type {\n        vertical-align: middle;\n    }\n\n    .dataframe tbody tr th {\n        vertical-align: top;\n    }\n\n    .dataframe thead th {\n        text-align: right;\n    }\n</style>\n<table border=\"1\" class=\"dataframe\">\n  <thead>\n    <tr style=\"text-align: right;\">\n      <th></th>\n      <th>age</th>\n      <th>gender</th>\n      <th>split</th>\n      <th>final</th>\n    </tr>\n  </thead>\n  <tbody>\n    <tr>\n      <th>0</th>\n      <td>33</td>\n      <td>M</td>\n      <td>01:05:38</td>\n      <td>02:08:51</td>\n    </tr>\n    <tr>\n      <th>1</th>\n      <td>32</td>\n      <td>M</td>\n      <td>01:06:26</td>\n      <td>02:09:28</td>\n    </tr>\n    <tr>\n      <th>2</th>\n      <td>31</td>\n      <td>M</td>\n      <td>01:06:49</td>\n      <td>02:10:42</td>\n    </tr>\n    <tr>\n      <th>3</th>\n      <td>38</td>\n      <td>M</td>\n      <td>01:06:16</td>\n      <td>02:13:45</td>\n    </tr>\n    <tr>\n      <th>4</th>\n      <td>31</td>\n      <td>M</td>\n      <td>01:06:32</td>\n      <td>02:13:59</td>\n    </tr>\n    <tr>\n      <th>...</th>\n      <td>...</td>\n      <td>...</td>\n      <td>...</td>\n      <td>...</td>\n    </tr>\n    <tr>\n      <th>37245</th>\n      <td>18</td>\n      <td>M</td>\n      <td>04:24:24</td>\n      <td>09:32:57</td>\n    </tr>\n    <tr>\n      <th>37246</th>\n      <td>36</td>\n      <td>M</td>\n      <td>04:35:43</td>\n      <td>09:33:28</td>\n    </tr>\n    <tr>\n      <th>37247</th>\n      <td>51</td>\n      <td>M</td>\n      <td>04:22:35</td>\n      <td>09:33:40</td>\n    </tr>\n    <tr>\n      <th>37248</th>\n      <td>55</td>\n      <td>W</td>\n      <td>04:58:06</td>\n      <td>10:00:40</td>\n    </tr>\n    <tr>\n      <th>37249</th>\n      <td>58</td>\n      <td>W</td>\n      <td>04:59:49</td>\n      <td>10:01:08</td>\n    </tr>\n  </tbody>\n</table>\n<p>37250 rows × 4 columns</p>\n</div>"
     },
     "execution_count": 12,
     "metadata": {},
     "output_type": "execute_result"
    }
   ],
   "source": [
    "# drop_duplicates() removed any duplicate items\n",
    "temp_df.drop_duplicates()"
   ],
   "metadata": {
    "collapsed": false,
    "pycharm": {
     "name": "#%%\n"
    }
   }
  },
  {
   "cell_type": "code",
   "execution_count": 13,
   "outputs": [
    {
     "data": {
      "text/plain": "(74500, 4)"
     },
     "execution_count": 13,
     "metadata": {},
     "output_type": "execute_result"
    }
   ],
   "source": [
    "# temp_df hasn't changed. The above function returned a new variable\n",
    "temp_df.shape"
   ],
   "metadata": {
    "collapsed": false,
    "pycharm": {
     "name": "#%%\n"
    }
   }
  },
  {
   "cell_type": "code",
   "execution_count": 14,
   "outputs": [
    {
     "data": {
      "text/plain": "       age gender     split     final\n0       33      M  01:05:38  02:08:51\n1       32      M  01:06:26  02:09:28\n2       31      M  01:06:49  02:10:42\n3       38      M  01:06:16  02:13:45\n4       31      M  01:06:32  02:13:59\n...    ...    ...       ...       ...\n37245   18      M  04:24:24  09:32:57\n37246   36      M  04:35:43  09:33:28\n37247   51      M  04:22:35  09:33:40\n37248   55      W  04:58:06  10:00:40\n37249   58      W  04:59:49  10:01:08\n\n[37250 rows x 4 columns]",
      "text/html": "<div>\n<style scoped>\n    .dataframe tbody tr th:only-of-type {\n        vertical-align: middle;\n    }\n\n    .dataframe tbody tr th {\n        vertical-align: top;\n    }\n\n    .dataframe thead th {\n        text-align: right;\n    }\n</style>\n<table border=\"1\" class=\"dataframe\">\n  <thead>\n    <tr style=\"text-align: right;\">\n      <th></th>\n      <th>age</th>\n      <th>gender</th>\n      <th>split</th>\n      <th>final</th>\n    </tr>\n  </thead>\n  <tbody>\n    <tr>\n      <th>0</th>\n      <td>33</td>\n      <td>M</td>\n      <td>01:05:38</td>\n      <td>02:08:51</td>\n    </tr>\n    <tr>\n      <th>1</th>\n      <td>32</td>\n      <td>M</td>\n      <td>01:06:26</td>\n      <td>02:09:28</td>\n    </tr>\n    <tr>\n      <th>2</th>\n      <td>31</td>\n      <td>M</td>\n      <td>01:06:49</td>\n      <td>02:10:42</td>\n    </tr>\n    <tr>\n      <th>3</th>\n      <td>38</td>\n      <td>M</td>\n      <td>01:06:16</td>\n      <td>02:13:45</td>\n    </tr>\n    <tr>\n      <th>4</th>\n      <td>31</td>\n      <td>M</td>\n      <td>01:06:32</td>\n      <td>02:13:59</td>\n    </tr>\n    <tr>\n      <th>...</th>\n      <td>...</td>\n      <td>...</td>\n      <td>...</td>\n      <td>...</td>\n    </tr>\n    <tr>\n      <th>37245</th>\n      <td>18</td>\n      <td>M</td>\n      <td>04:24:24</td>\n      <td>09:32:57</td>\n    </tr>\n    <tr>\n      <th>37246</th>\n      <td>36</td>\n      <td>M</td>\n      <td>04:35:43</td>\n      <td>09:33:28</td>\n    </tr>\n    <tr>\n      <th>37247</th>\n      <td>51</td>\n      <td>M</td>\n      <td>04:22:35</td>\n      <td>09:33:40</td>\n    </tr>\n    <tr>\n      <th>37248</th>\n      <td>55</td>\n      <td>W</td>\n      <td>04:58:06</td>\n      <td>10:00:40</td>\n    </tr>\n    <tr>\n      <th>37249</th>\n      <td>58</td>\n      <td>W</td>\n      <td>04:59:49</td>\n      <td>10:01:08</td>\n    </tr>\n  </tbody>\n</table>\n<p>37250 rows × 4 columns</p>\n</div>"
     },
     "execution_count": 14,
     "metadata": {},
     "output_type": "execute_result"
    }
   ],
   "source": [
    "# to change original dataframe instead of creating a new variable:\n",
    "temp_df.drop_duplicates(inplace=True)\n",
    "temp_df"
   ],
   "metadata": {
    "collapsed": false,
    "pycharm": {
     "name": "#%%\n"
    }
   }
  },
  {
   "cell_type": "code",
   "execution_count": 15,
   "outputs": [],
   "source": [
    "# keep parameter decides whether to drop duplicated except for first occurance (default), except for last occurance (keep='last'), or drop all duplicated (keep=False)\n",
    "temp_df.drop_duplicates(keep='last', inplace=True)\n"
   ],
   "metadata": {
    "collapsed": false,
    "pycharm": {
     "name": "#%%\n"
    }
   }
  },
  {
   "cell_type": "code",
   "execution_count": 16,
   "outputs": [
    {
     "data": {
      "text/plain": "       age gender     split     final\n0       33      M  01:05:38  02:08:51\n1       32      M  01:06:26  02:09:28\n2       31      M  01:06:49  02:10:42\n3       38      M  01:06:16  02:13:45\n4       31      M  01:06:32  02:13:59\n...    ...    ...       ...       ...\n37245   18      M  04:24:24  09:32:57\n37246   36      M  04:35:43  09:33:28\n37247   51      M  04:22:35  09:33:40\n37248   55      W  04:58:06  10:00:40\n37249   58      W  04:59:49  10:01:08\n\n[37250 rows x 4 columns]",
      "text/html": "<div>\n<style scoped>\n    .dataframe tbody tr th:only-of-type {\n        vertical-align: middle;\n    }\n\n    .dataframe tbody tr th {\n        vertical-align: top;\n    }\n\n    .dataframe thead th {\n        text-align: right;\n    }\n</style>\n<table border=\"1\" class=\"dataframe\">\n  <thead>\n    <tr style=\"text-align: right;\">\n      <th></th>\n      <th>age</th>\n      <th>gender</th>\n      <th>split</th>\n      <th>final</th>\n    </tr>\n  </thead>\n  <tbody>\n    <tr>\n      <th>0</th>\n      <td>33</td>\n      <td>M</td>\n      <td>01:05:38</td>\n      <td>02:08:51</td>\n    </tr>\n    <tr>\n      <th>1</th>\n      <td>32</td>\n      <td>M</td>\n      <td>01:06:26</td>\n      <td>02:09:28</td>\n    </tr>\n    <tr>\n      <th>2</th>\n      <td>31</td>\n      <td>M</td>\n      <td>01:06:49</td>\n      <td>02:10:42</td>\n    </tr>\n    <tr>\n      <th>3</th>\n      <td>38</td>\n      <td>M</td>\n      <td>01:06:16</td>\n      <td>02:13:45</td>\n    </tr>\n    <tr>\n      <th>4</th>\n      <td>31</td>\n      <td>M</td>\n      <td>01:06:32</td>\n      <td>02:13:59</td>\n    </tr>\n    <tr>\n      <th>...</th>\n      <td>...</td>\n      <td>...</td>\n      <td>...</td>\n      <td>...</td>\n    </tr>\n    <tr>\n      <th>37245</th>\n      <td>18</td>\n      <td>M</td>\n      <td>04:24:24</td>\n      <td>09:32:57</td>\n    </tr>\n    <tr>\n      <th>37246</th>\n      <td>36</td>\n      <td>M</td>\n      <td>04:35:43</td>\n      <td>09:33:28</td>\n    </tr>\n    <tr>\n      <th>37247</th>\n      <td>51</td>\n      <td>M</td>\n      <td>04:22:35</td>\n      <td>09:33:40</td>\n    </tr>\n    <tr>\n      <th>37248</th>\n      <td>55</td>\n      <td>W</td>\n      <td>04:58:06</td>\n      <td>10:00:40</td>\n    </tr>\n    <tr>\n      <th>37249</th>\n      <td>58</td>\n      <td>W</td>\n      <td>04:59:49</td>\n      <td>10:01:08</td>\n    </tr>\n  </tbody>\n</table>\n<p>37250 rows × 4 columns</p>\n</div>"
     },
     "execution_count": 16,
     "metadata": {},
     "output_type": "execute_result"
    }
   ],
   "source": [
    "temp_df"
   ],
   "metadata": {
    "collapsed": false,
    "pycharm": {
     "name": "#%%\n"
    }
   }
  },
  {
   "cell_type": "markdown",
   "source": [
    "## Column cleanup"
   ],
   "metadata": {
    "collapsed": false,
    "pycharm": {
     "name": "#%% md\n"
    }
   }
  },
  {
   "cell_type": "code",
   "execution_count": 17,
   "outputs": [
    {
     "data": {
      "text/plain": "Index(['age', 'gender', 'split', 'final'], dtype='object')"
     },
     "execution_count": 17,
     "metadata": {},
     "output_type": "execute_result"
    }
   ],
   "source": [
    "# you can use .columns to get list of column names\n",
    "marathon.columns"
   ],
   "metadata": {
    "collapsed": false,
    "pycharm": {
     "name": "#%%\n"
    }
   }
  },
  {
   "cell_type": "code",
   "execution_count": 18,
   "outputs": [],
   "source": [
    "# use the rename method to rename specific column names through a dict\n",
    "marathon.rename(columns={\n",
    "    'age':'Age',\n",
    "    'gender':'Gender',\n",
    "    'split':'Split',\n",
    "    'final':'Final'\n",
    "}, inplace=True)"
   ],
   "metadata": {
    "collapsed": false,
    "pycharm": {
     "name": "#%%\n"
    }
   }
  },
  {
   "cell_type": "code",
   "execution_count": 19,
   "outputs": [
    {
     "data": {
      "text/plain": "Index(['Age', 'Gender', 'Split', 'Final'], dtype='object')"
     },
     "execution_count": 19,
     "metadata": {},
     "output_type": "execute_result"
    }
   ],
   "source": [
    "marathon.columns"
   ],
   "metadata": {
    "collapsed": false,
    "pycharm": {
     "name": "#%%\n"
    }
   }
  },
  {
   "cell_type": "code",
   "execution_count": 20,
   "outputs": [],
   "source": [
    "# you can rename columns by setting a list of names to the column\n",
    "marathon.columns = ['age', 'gender','split','final']"
   ],
   "metadata": {
    "collapsed": false,
    "pycharm": {
     "name": "#%%\n"
    }
   }
  },
  {
   "cell_type": "code",
   "execution_count": 21,
   "outputs": [
    {
     "data": {
      "text/plain": "       age gender     split     final\n0       33      M  01:05:38  02:08:51\n1       32      M  01:06:26  02:09:28\n2       31      M  01:06:49  02:10:42\n3       38      M  01:06:16  02:13:45\n4       31      M  01:06:32  02:13:59\n...    ...    ...       ...       ...\n37245   18      M  04:24:24  09:32:57\n37246   36      M  04:35:43  09:33:28\n37247   51      M  04:22:35  09:33:40\n37248   55      W  04:58:06  10:00:40\n37249   58      W  04:59:49  10:01:08\n\n[37250 rows x 4 columns]",
      "text/html": "<div>\n<style scoped>\n    .dataframe tbody tr th:only-of-type {\n        vertical-align: middle;\n    }\n\n    .dataframe tbody tr th {\n        vertical-align: top;\n    }\n\n    .dataframe thead th {\n        text-align: right;\n    }\n</style>\n<table border=\"1\" class=\"dataframe\">\n  <thead>\n    <tr style=\"text-align: right;\">\n      <th></th>\n      <th>age</th>\n      <th>gender</th>\n      <th>split</th>\n      <th>final</th>\n    </tr>\n  </thead>\n  <tbody>\n    <tr>\n      <th>0</th>\n      <td>33</td>\n      <td>M</td>\n      <td>01:05:38</td>\n      <td>02:08:51</td>\n    </tr>\n    <tr>\n      <th>1</th>\n      <td>32</td>\n      <td>M</td>\n      <td>01:06:26</td>\n      <td>02:09:28</td>\n    </tr>\n    <tr>\n      <th>2</th>\n      <td>31</td>\n      <td>M</td>\n      <td>01:06:49</td>\n      <td>02:10:42</td>\n    </tr>\n    <tr>\n      <th>3</th>\n      <td>38</td>\n      <td>M</td>\n      <td>01:06:16</td>\n      <td>02:13:45</td>\n    </tr>\n    <tr>\n      <th>4</th>\n      <td>31</td>\n      <td>M</td>\n      <td>01:06:32</td>\n      <td>02:13:59</td>\n    </tr>\n    <tr>\n      <th>...</th>\n      <td>...</td>\n      <td>...</td>\n      <td>...</td>\n      <td>...</td>\n    </tr>\n    <tr>\n      <th>37245</th>\n      <td>18</td>\n      <td>M</td>\n      <td>04:24:24</td>\n      <td>09:32:57</td>\n    </tr>\n    <tr>\n      <th>37246</th>\n      <td>36</td>\n      <td>M</td>\n      <td>04:35:43</td>\n      <td>09:33:28</td>\n    </tr>\n    <tr>\n      <th>37247</th>\n      <td>51</td>\n      <td>M</td>\n      <td>04:22:35</td>\n      <td>09:33:40</td>\n    </tr>\n    <tr>\n      <th>37248</th>\n      <td>55</td>\n      <td>W</td>\n      <td>04:58:06</td>\n      <td>10:00:40</td>\n    </tr>\n    <tr>\n      <th>37249</th>\n      <td>58</td>\n      <td>W</td>\n      <td>04:59:49</td>\n      <td>10:01:08</td>\n    </tr>\n  </tbody>\n</table>\n<p>37250 rows × 4 columns</p>\n</div>"
     },
     "execution_count": 21,
     "metadata": {},
     "output_type": "execute_result"
    }
   ],
   "source": [
    "marathon"
   ],
   "metadata": {
    "collapsed": false,
    "pycharm": {
     "name": "#%%\n"
    }
   }
  },
  {
   "cell_type": "code",
   "execution_count": 22,
   "outputs": [
    {
     "data": {
      "text/plain": "       age gender     split     final\n0       33      M  01:05:38  02:08:51\n1       32      M  01:06:26  02:09:28\n2       31      M  01:06:49  02:10:42\n3       38      M  01:06:16  02:13:45\n4       31      M  01:06:32  02:13:59\n...    ...    ...       ...       ...\n37245   18      M  04:24:24  09:32:57\n37246   36      M  04:35:43  09:33:28\n37247   51      M  04:22:35  09:33:40\n37248   55      W  04:58:06  10:00:40\n37249   58      W  04:59:49  10:01:08\n\n[37250 rows x 4 columns]",
      "text/html": "<div>\n<style scoped>\n    .dataframe tbody tr th:only-of-type {\n        vertical-align: middle;\n    }\n\n    .dataframe tbody tr th {\n        vertical-align: top;\n    }\n\n    .dataframe thead th {\n        text-align: right;\n    }\n</style>\n<table border=\"1\" class=\"dataframe\">\n  <thead>\n    <tr style=\"text-align: right;\">\n      <th></th>\n      <th>age</th>\n      <th>gender</th>\n      <th>split</th>\n      <th>final</th>\n    </tr>\n  </thead>\n  <tbody>\n    <tr>\n      <th>0</th>\n      <td>33</td>\n      <td>M</td>\n      <td>01:05:38</td>\n      <td>02:08:51</td>\n    </tr>\n    <tr>\n      <th>1</th>\n      <td>32</td>\n      <td>M</td>\n      <td>01:06:26</td>\n      <td>02:09:28</td>\n    </tr>\n    <tr>\n      <th>2</th>\n      <td>31</td>\n      <td>M</td>\n      <td>01:06:49</td>\n      <td>02:10:42</td>\n    </tr>\n    <tr>\n      <th>3</th>\n      <td>38</td>\n      <td>M</td>\n      <td>01:06:16</td>\n      <td>02:13:45</td>\n    </tr>\n    <tr>\n      <th>4</th>\n      <td>31</td>\n      <td>M</td>\n      <td>01:06:32</td>\n      <td>02:13:59</td>\n    </tr>\n    <tr>\n      <th>...</th>\n      <td>...</td>\n      <td>...</td>\n      <td>...</td>\n      <td>...</td>\n    </tr>\n    <tr>\n      <th>37245</th>\n      <td>18</td>\n      <td>M</td>\n      <td>04:24:24</td>\n      <td>09:32:57</td>\n    </tr>\n    <tr>\n      <th>37246</th>\n      <td>36</td>\n      <td>M</td>\n      <td>04:35:43</td>\n      <td>09:33:28</td>\n    </tr>\n    <tr>\n      <th>37247</th>\n      <td>51</td>\n      <td>M</td>\n      <td>04:22:35</td>\n      <td>09:33:40</td>\n    </tr>\n    <tr>\n      <th>37248</th>\n      <td>55</td>\n      <td>W</td>\n      <td>04:58:06</td>\n      <td>10:00:40</td>\n    </tr>\n    <tr>\n      <th>37249</th>\n      <td>58</td>\n      <td>W</td>\n      <td>04:59:49</td>\n      <td>10:01:08</td>\n    </tr>\n  </tbody>\n</table>\n<p>37250 rows × 4 columns</p>\n</div>"
     },
     "execution_count": 22,
     "metadata": {},
     "output_type": "execute_result"
    }
   ],
   "source": [
    "# this also works\n",
    "marathon.columns = [col.lower() for col in marathon]\n",
    "marathon"
   ],
   "metadata": {
    "collapsed": false,
    "pycharm": {
     "name": "#%%\n"
    }
   }
  },
  {
   "cell_type": "markdown",
   "source": [
    "## Dealing with missing values"
   ],
   "metadata": {
    "collapsed": false,
    "pycharm": {
     "name": "#%% md\n"
    }
   }
  },
  {
   "cell_type": "code",
   "execution_count": 23,
   "outputs": [
    {
     "data": {
      "text/plain": "         age  gender  split  final\n0      False   False  False  False\n1      False   False  False  False\n2      False   False  False  False\n3      False   False  False  False\n4      False   False  False  False\n...      ...     ...    ...    ...\n37245  False   False  False  False\n37246  False   False  False  False\n37247  False   False  False  False\n37248  False   False  False  False\n37249  False   False  False  False\n\n[37250 rows x 4 columns]",
      "text/html": "<div>\n<style scoped>\n    .dataframe tbody tr th:only-of-type {\n        vertical-align: middle;\n    }\n\n    .dataframe tbody tr th {\n        vertical-align: top;\n    }\n\n    .dataframe thead th {\n        text-align: right;\n    }\n</style>\n<table border=\"1\" class=\"dataframe\">\n  <thead>\n    <tr style=\"text-align: right;\">\n      <th></th>\n      <th>age</th>\n      <th>gender</th>\n      <th>split</th>\n      <th>final</th>\n    </tr>\n  </thead>\n  <tbody>\n    <tr>\n      <th>0</th>\n      <td>False</td>\n      <td>False</td>\n      <td>False</td>\n      <td>False</td>\n    </tr>\n    <tr>\n      <th>1</th>\n      <td>False</td>\n      <td>False</td>\n      <td>False</td>\n      <td>False</td>\n    </tr>\n    <tr>\n      <th>2</th>\n      <td>False</td>\n      <td>False</td>\n      <td>False</td>\n      <td>False</td>\n    </tr>\n    <tr>\n      <th>3</th>\n      <td>False</td>\n      <td>False</td>\n      <td>False</td>\n      <td>False</td>\n    </tr>\n    <tr>\n      <th>4</th>\n      <td>False</td>\n      <td>False</td>\n      <td>False</td>\n      <td>False</td>\n    </tr>\n    <tr>\n      <th>...</th>\n      <td>...</td>\n      <td>...</td>\n      <td>...</td>\n      <td>...</td>\n    </tr>\n    <tr>\n      <th>37245</th>\n      <td>False</td>\n      <td>False</td>\n      <td>False</td>\n      <td>False</td>\n    </tr>\n    <tr>\n      <th>37246</th>\n      <td>False</td>\n      <td>False</td>\n      <td>False</td>\n      <td>False</td>\n    </tr>\n    <tr>\n      <th>37247</th>\n      <td>False</td>\n      <td>False</td>\n      <td>False</td>\n      <td>False</td>\n    </tr>\n    <tr>\n      <th>37248</th>\n      <td>False</td>\n      <td>False</td>\n      <td>False</td>\n      <td>False</td>\n    </tr>\n    <tr>\n      <th>37249</th>\n      <td>False</td>\n      <td>False</td>\n      <td>False</td>\n      <td>False</td>\n    </tr>\n  </tbody>\n</table>\n<p>37250 rows × 4 columns</p>\n</div>"
     },
     "execution_count": 23,
     "metadata": {},
     "output_type": "execute_result"
    }
   ],
   "source": [
    "# check which items are missing\n",
    "marathon.isnull()\n"
   ],
   "metadata": {
    "collapsed": false,
    "pycharm": {
     "name": "#%%\n"
    }
   }
  },
  {
   "cell_type": "code",
   "execution_count": 24,
   "outputs": [
    {
     "data": {
      "text/plain": "age       0\ngender    0\nsplit     0\nfinal     0\ndtype: int64"
     },
     "execution_count": 24,
     "metadata": {},
     "output_type": "execute_result"
    }
   ],
   "source": [
    "# to get sum of null items\n",
    "marathon.isnull().sum()"
   ],
   "metadata": {
    "collapsed": false,
    "pycharm": {
     "name": "#%%\n"
    }
   }
  },
  {
   "cell_type": "code",
   "execution_count": 25,
   "outputs": [],
   "source": [
    "# to remove any rows with at least one null value\n",
    "marathon.dropna(inplace=True)"
   ],
   "metadata": {
    "collapsed": false,
    "pycharm": {
     "name": "#%%\n"
    }
   }
  },
  {
   "cell_type": "code",
   "execution_count": 26,
   "outputs": [
    {
     "data": {
      "text/plain": "       age gender     split     final\n0       33      M  01:05:38  02:08:51\n1       32      M  01:06:26  02:09:28\n2       31      M  01:06:49  02:10:42\n3       38      M  01:06:16  02:13:45\n4       31      M  01:06:32  02:13:59\n...    ...    ...       ...       ...\n37245   18      M  04:24:24  09:32:57\n37246   36      M  04:35:43  09:33:28\n37247   51      M  04:22:35  09:33:40\n37248   55      W  04:58:06  10:00:40\n37249   58      W  04:59:49  10:01:08\n\n[37250 rows x 4 columns]",
      "text/html": "<div>\n<style scoped>\n    .dataframe tbody tr th:only-of-type {\n        vertical-align: middle;\n    }\n\n    .dataframe tbody tr th {\n        vertical-align: top;\n    }\n\n    .dataframe thead th {\n        text-align: right;\n    }\n</style>\n<table border=\"1\" class=\"dataframe\">\n  <thead>\n    <tr style=\"text-align: right;\">\n      <th></th>\n      <th>age</th>\n      <th>gender</th>\n      <th>split</th>\n      <th>final</th>\n    </tr>\n  </thead>\n  <tbody>\n    <tr>\n      <th>0</th>\n      <td>33</td>\n      <td>M</td>\n      <td>01:05:38</td>\n      <td>02:08:51</td>\n    </tr>\n    <tr>\n      <th>1</th>\n      <td>32</td>\n      <td>M</td>\n      <td>01:06:26</td>\n      <td>02:09:28</td>\n    </tr>\n    <tr>\n      <th>2</th>\n      <td>31</td>\n      <td>M</td>\n      <td>01:06:49</td>\n      <td>02:10:42</td>\n    </tr>\n    <tr>\n      <th>3</th>\n      <td>38</td>\n      <td>M</td>\n      <td>01:06:16</td>\n      <td>02:13:45</td>\n    </tr>\n    <tr>\n      <th>4</th>\n      <td>31</td>\n      <td>M</td>\n      <td>01:06:32</td>\n      <td>02:13:59</td>\n    </tr>\n    <tr>\n      <th>...</th>\n      <td>...</td>\n      <td>...</td>\n      <td>...</td>\n      <td>...</td>\n    </tr>\n    <tr>\n      <th>37245</th>\n      <td>18</td>\n      <td>M</td>\n      <td>04:24:24</td>\n      <td>09:32:57</td>\n    </tr>\n    <tr>\n      <th>37246</th>\n      <td>36</td>\n      <td>M</td>\n      <td>04:35:43</td>\n      <td>09:33:28</td>\n    </tr>\n    <tr>\n      <th>37247</th>\n      <td>51</td>\n      <td>M</td>\n      <td>04:22:35</td>\n      <td>09:33:40</td>\n    </tr>\n    <tr>\n      <th>37248</th>\n      <td>55</td>\n      <td>W</td>\n      <td>04:58:06</td>\n      <td>10:00:40</td>\n    </tr>\n    <tr>\n      <th>37249</th>\n      <td>58</td>\n      <td>W</td>\n      <td>04:59:49</td>\n      <td>10:01:08</td>\n    </tr>\n  </tbody>\n</table>\n<p>37250 rows × 4 columns</p>\n</div>"
     },
     "execution_count": 26,
     "metadata": {},
     "output_type": "execute_result"
    }
   ],
   "source": [
    "# you can also drop columns with null values\n",
    "marathon.dropna(axis=1)"
   ],
   "metadata": {
    "collapsed": false,
    "pycharm": {
     "name": "#%%\n"
    }
   }
  },
  {
   "cell_type": "markdown",
   "source": [
    "'axis' parameter specifies whether we are dealing with rows (axis=0), or columns (axis=1)"
   ],
   "metadata": {
    "collapsed": false,
    "pycharm": {
     "name": "#%% md\n"
    }
   }
  },
  {
   "cell_type": "markdown",
   "source": [
    "### Imputation"
   ],
   "metadata": {
    "collapsed": false,
    "pycharm": {
     "name": "#%% md\n"
    }
   }
  },
  {
   "cell_type": "code",
   "execution_count": 27,
   "outputs": [],
   "source": [
    "# to select a column in a dataframe\n",
    "age = marathon['age']"
   ],
   "metadata": {
    "collapsed": false,
    "pycharm": {
     "name": "#%%\n"
    }
   }
  },
  {
   "cell_type": "code",
   "execution_count": 28,
   "outputs": [],
   "source": [
    "# instead of dropping null values, you can find mean of the remaining values, and fill the null spaces with those\n",
    "mean_age = age.mean()\n",
    "age.fillna(mean_age, inplace=True)\n",
    "# note that inplace=True not only changes 'age', but changes 'marathon' too"
   ],
   "metadata": {
    "collapsed": false,
    "pycharm": {
     "name": "#%%\n"
    }
   }
  },
  {
   "cell_type": "markdown",
   "source": [
    "### Understanding your variables"
   ],
   "metadata": {
    "collapsed": false,
    "pycharm": {
     "name": "#%% md\n"
    }
   }
  },
  {
   "cell_type": "code",
   "execution_count": 29,
   "outputs": [
    {
     "data": {
      "text/plain": "                age\ncount  37250.000000\nmean      40.697369\nstd       10.220043\nmin       17.000000\n25%       33.000000\n50%       40.000000\n75%       48.000000\nmax       86.000000",
      "text/html": "<div>\n<style scoped>\n    .dataframe tbody tr th:only-of-type {\n        vertical-align: middle;\n    }\n\n    .dataframe tbody tr th {\n        vertical-align: top;\n    }\n\n    .dataframe thead th {\n        text-align: right;\n    }\n</style>\n<table border=\"1\" class=\"dataframe\">\n  <thead>\n    <tr style=\"text-align: right;\">\n      <th></th>\n      <th>age</th>\n    </tr>\n  </thead>\n  <tbody>\n    <tr>\n      <th>count</th>\n      <td>37250.000000</td>\n    </tr>\n    <tr>\n      <th>mean</th>\n      <td>40.697369</td>\n    </tr>\n    <tr>\n      <th>std</th>\n      <td>10.220043</td>\n    </tr>\n    <tr>\n      <th>min</th>\n      <td>17.000000</td>\n    </tr>\n    <tr>\n      <th>25%</th>\n      <td>33.000000</td>\n    </tr>\n    <tr>\n      <th>50%</th>\n      <td>40.000000</td>\n    </tr>\n    <tr>\n      <th>75%</th>\n      <td>48.000000</td>\n    </tr>\n    <tr>\n      <th>max</th>\n      <td>86.000000</td>\n    </tr>\n  </tbody>\n</table>\n</div>"
     },
     "execution_count": 29,
     "metadata": {},
     "output_type": "execute_result"
    }
   ],
   "source": [
    "# to get summary of distribution of continuous variables\n",
    "marathon.describe()\n",
    "# 'age' is the only continuous numerical variable in this case"
   ],
   "metadata": {
    "collapsed": false,
    "pycharm": {
     "name": "#%%\n"
    }
   }
  },
  {
   "cell_type": "code",
   "execution_count": 30,
   "outputs": [
    {
     "data": {
      "text/plain": "count     37250\nunique        2\ntop           M\nfreq      24665\nName: gender, dtype: object"
     },
     "execution_count": 30,
     "metadata": {},
     "output_type": "execute_result"
    }
   ],
   "source": [
    "# can also be used for categorical variables\n",
    "marathon['gender'].describe()"
   ],
   "metadata": {
    "collapsed": false,
    "pycharm": {
     "name": "#%%\n"
    }
   }
  },
  {
   "cell_type": "code",
   "execution_count": 31,
   "outputs": [
    {
     "data": {
      "text/plain": "40    1480\n39    1438\n41    1437\n42    1363\n43    1324\n      ... \n81       2\n83       2\n82       1\n84       1\n86       1\nName: age, Length: 69, dtype: int64"
     },
     "execution_count": 31,
     "metadata": {},
     "output_type": "execute_result"
    }
   ],
   "source": [
    "# frequency of all values in a column\n",
    "marathon['age'].value_counts()"
   ],
   "metadata": {
    "collapsed": false,
    "pycharm": {
     "name": "#%%\n"
    }
   }
  },
  {
   "cell_type": "code",
   "execution_count": 32,
   "outputs": [
    {
     "data": {
      "text/plain": "     age\nage  1.0",
      "text/html": "<div>\n<style scoped>\n    .dataframe tbody tr th:only-of-type {\n        vertical-align: middle;\n    }\n\n    .dataframe tbody tr th {\n        vertical-align: top;\n    }\n\n    .dataframe thead th {\n        text-align: right;\n    }\n</style>\n<table border=\"1\" class=\"dataframe\">\n  <thead>\n    <tr style=\"text-align: right;\">\n      <th></th>\n      <th>age</th>\n    </tr>\n  </thead>\n  <tbody>\n    <tr>\n      <th>age</th>\n      <td>1.0</td>\n    </tr>\n  </tbody>\n</table>\n</div>"
     },
     "execution_count": 32,
     "metadata": {},
     "output_type": "execute_result"
    }
   ],
   "source": [
    "# to generate relationship between each continuous variable\n",
    "marathon.corr()"
   ],
   "metadata": {
    "collapsed": false,
    "pycharm": {
     "name": "#%%\n"
    }
   }
  },
  {
   "cell_type": "markdown",
   "source": [
    "## DataFrame slicing, selecting, extracting"
   ],
   "metadata": {
    "collapsed": false,
    "pycharm": {
     "name": "#%% md\n"
    }
   }
  },
  {
   "cell_type": "code",
   "execution_count": 33,
   "outputs": [
    {
     "data": {
      "text/plain": "0        M\n1        M\n2        M\n3        M\n4        M\n        ..\n37245    M\n37246    M\n37247    M\n37248    W\n37249    W\nName: gender, Length: 37250, dtype: object"
     },
     "execution_count": 33,
     "metadata": {},
     "output_type": "execute_result"
    }
   ],
   "source": [
    "# you can extract a column using square brackets\n",
    "marathon['gender']"
   ],
   "metadata": {
    "collapsed": false,
    "pycharm": {
     "name": "#%%\n"
    }
   }
  },
  {
   "cell_type": "code",
   "execution_count": 34,
   "outputs": [
    {
     "data": {
      "text/plain": "pandas.core.series.Series"
     },
     "execution_count": 34,
     "metadata": {},
     "output_type": "execute_result"
    }
   ],
   "source": [
    "# it becomes a Series (not a DataFrame)\n",
    "type(marathon['gender'])"
   ],
   "metadata": {
    "collapsed": false,
    "pycharm": {
     "name": "#%%\n"
    }
   }
  },
  {
   "cell_type": "code",
   "execution_count": 35,
   "outputs": [
    {
     "data": {
      "text/plain": "pandas.core.frame.DataFrame"
     },
     "execution_count": 35,
     "metadata": {},
     "output_type": "execute_result"
    }
   ],
   "source": [
    "# to get a DataFrame, pass a list of column names (one in this case)\n",
    "type(marathon[['gender']])"
   ],
   "metadata": {
    "collapsed": false,
    "pycharm": {
     "name": "#%%\n"
    }
   }
  },
  {
   "cell_type": "markdown",
   "source": [
    "To extract a row, there are two options:\n",
    "- .loc - **loc**ate by name\n",
    "- .iloc = **loc**ate by **i**ndex"
   ],
   "metadata": {
    "collapsed": false,
    "pycharm": {
     "name": "#%% md\n"
    }
   }
  },
  {
   "cell_type": "code",
   "execution_count": 36,
   "outputs": [
    {
     "data": {
      "text/plain": "age             39\ngender           M\nsplit     01:37:51\nfinal     03:31:56\nName: 4323, dtype: object"
     },
     "execution_count": 36,
     "metadata": {},
     "output_type": "execute_result"
    }
   ],
   "source": [
    "# in this case, name and index are the same\n",
    "marathon.loc[4323]"
   ],
   "metadata": {
    "collapsed": false,
    "pycharm": {
     "name": "#%%\n"
    }
   }
  },
  {
   "cell_type": "code",
   "execution_count": 37,
   "outputs": [
    {
     "data": {
      "text/plain": "age             39\ngender           M\nsplit     01:37:51\nfinal     03:31:56\nName: 4323, dtype: object"
     },
     "execution_count": 37,
     "metadata": {},
     "output_type": "execute_result"
    }
   ],
   "source": [
    "marathon.iloc[4323]"
   ],
   "metadata": {
    "collapsed": false,
    "pycharm": {
     "name": "#%%\n"
    }
   }
  },
  {
   "cell_type": "code",
   "execution_count": 38,
   "outputs": [
    {
     "data": {
      "text/plain": "      age gender     split     final\n4533   50      M  01:43:43  03:33:14\n4534   41      M  01:38:45  03:33:14\n4535   46      W  01:42:46  03:33:14\n4536   47      M  01:44:26  03:33:14\n4537   31      M  01:36:37  03:33:14\n4538   42      M  01:36:40  03:33:15\n4539   42      M  01:36:13  03:33:15\n4540   53      M  01:38:29  03:33:16",
      "text/html": "<div>\n<style scoped>\n    .dataframe tbody tr th:only-of-type {\n        vertical-align: middle;\n    }\n\n    .dataframe tbody tr th {\n        vertical-align: top;\n    }\n\n    .dataframe thead th {\n        text-align: right;\n    }\n</style>\n<table border=\"1\" class=\"dataframe\">\n  <thead>\n    <tr style=\"text-align: right;\">\n      <th></th>\n      <th>age</th>\n      <th>gender</th>\n      <th>split</th>\n      <th>final</th>\n    </tr>\n  </thead>\n  <tbody>\n    <tr>\n      <th>4533</th>\n      <td>50</td>\n      <td>M</td>\n      <td>01:43:43</td>\n      <td>03:33:14</td>\n    </tr>\n    <tr>\n      <th>4534</th>\n      <td>41</td>\n      <td>M</td>\n      <td>01:38:45</td>\n      <td>03:33:14</td>\n    </tr>\n    <tr>\n      <th>4535</th>\n      <td>46</td>\n      <td>W</td>\n      <td>01:42:46</td>\n      <td>03:33:14</td>\n    </tr>\n    <tr>\n      <th>4536</th>\n      <td>47</td>\n      <td>M</td>\n      <td>01:44:26</td>\n      <td>03:33:14</td>\n    </tr>\n    <tr>\n      <th>4537</th>\n      <td>31</td>\n      <td>M</td>\n      <td>01:36:37</td>\n      <td>03:33:14</td>\n    </tr>\n    <tr>\n      <th>4538</th>\n      <td>42</td>\n      <td>M</td>\n      <td>01:36:40</td>\n      <td>03:33:15</td>\n    </tr>\n    <tr>\n      <th>4539</th>\n      <td>42</td>\n      <td>M</td>\n      <td>01:36:13</td>\n      <td>03:33:15</td>\n    </tr>\n    <tr>\n      <th>4540</th>\n      <td>53</td>\n      <td>M</td>\n      <td>01:38:29</td>\n      <td>03:33:16</td>\n    </tr>\n  </tbody>\n</table>\n</div>"
     },
     "execution_count": 38,
     "metadata": {},
     "output_type": "execute_result"
    }
   ],
   "source": [
    "# to select multiple rows. .loc includes both lower and upper bound, but .iloc does not include upper bound\n",
    "marathon.loc[4533:4540]"
   ],
   "metadata": {
    "collapsed": false,
    "pycharm": {
     "name": "#%%\n"
    }
   }
  },
  {
   "cell_type": "markdown",
   "source": [
    "### Contitional selection"
   ],
   "metadata": {
    "collapsed": false,
    "pycharm": {
     "name": "#%% md\n"
    }
   }
  },
  {
   "cell_type": "code",
   "execution_count": 39,
   "outputs": [
    {
     "data": {
      "text/plain": "0        False\n1        False\n2        False\n3        False\n4        False\n         ...  \n37245    False\n37246    False\n37247    False\n37248     True\n37249     True\nName: gender, Length: 37250, dtype: bool"
     },
     "execution_count": 39,
     "metadata": {},
     "output_type": "execute_result"
    }
   ],
   "source": [
    "# to select only women. Returns every row, with boolean values\n",
    "marathon['gender']==\"W\""
   ],
   "metadata": {
    "collapsed": false,
    "pycharm": {
     "name": "#%%\n"
    }
   }
  },
  {
   "cell_type": "code",
   "execution_count": 40,
   "outputs": [
    {
     "data": {
      "text/plain": "       age gender     split     final\n28      34      W  01:12:35  02:24:13\n30      39      W  01:13:13  02:25:37\n32      29      W  01:13:09  02:25:50\n40      36      W  01:12:57  02:28:13\n41      27      W  01:13:07  02:28:27\n...    ...    ...       ...       ...\n37241   42      W  03:27:53  09:05:44\n37242   64      W  04:27:19  09:10:58\n37244   32      W  04:15:33  09:32:56\n37248   55      W  04:58:06  10:00:40\n37249   58      W  04:59:49  10:01:08\n\n[12585 rows x 4 columns]",
      "text/html": "<div>\n<style scoped>\n    .dataframe tbody tr th:only-of-type {\n        vertical-align: middle;\n    }\n\n    .dataframe tbody tr th {\n        vertical-align: top;\n    }\n\n    .dataframe thead th {\n        text-align: right;\n    }\n</style>\n<table border=\"1\" class=\"dataframe\">\n  <thead>\n    <tr style=\"text-align: right;\">\n      <th></th>\n      <th>age</th>\n      <th>gender</th>\n      <th>split</th>\n      <th>final</th>\n    </tr>\n  </thead>\n  <tbody>\n    <tr>\n      <th>28</th>\n      <td>34</td>\n      <td>W</td>\n      <td>01:12:35</td>\n      <td>02:24:13</td>\n    </tr>\n    <tr>\n      <th>30</th>\n      <td>39</td>\n      <td>W</td>\n      <td>01:13:13</td>\n      <td>02:25:37</td>\n    </tr>\n    <tr>\n      <th>32</th>\n      <td>29</td>\n      <td>W</td>\n      <td>01:13:09</td>\n      <td>02:25:50</td>\n    </tr>\n    <tr>\n      <th>40</th>\n      <td>36</td>\n      <td>W</td>\n      <td>01:12:57</td>\n      <td>02:28:13</td>\n    </tr>\n    <tr>\n      <th>41</th>\n      <td>27</td>\n      <td>W</td>\n      <td>01:13:07</td>\n      <td>02:28:27</td>\n    </tr>\n    <tr>\n      <th>...</th>\n      <td>...</td>\n      <td>...</td>\n      <td>...</td>\n      <td>...</td>\n    </tr>\n    <tr>\n      <th>37241</th>\n      <td>42</td>\n      <td>W</td>\n      <td>03:27:53</td>\n      <td>09:05:44</td>\n    </tr>\n    <tr>\n      <th>37242</th>\n      <td>64</td>\n      <td>W</td>\n      <td>04:27:19</td>\n      <td>09:10:58</td>\n    </tr>\n    <tr>\n      <th>37244</th>\n      <td>32</td>\n      <td>W</td>\n      <td>04:15:33</td>\n      <td>09:32:56</td>\n    </tr>\n    <tr>\n      <th>37248</th>\n      <td>55</td>\n      <td>W</td>\n      <td>04:58:06</td>\n      <td>10:00:40</td>\n    </tr>\n    <tr>\n      <th>37249</th>\n      <td>58</td>\n      <td>W</td>\n      <td>04:59:49</td>\n      <td>10:01:08</td>\n    </tr>\n  </tbody>\n</table>\n<p>12585 rows × 4 columns</p>\n</div>"
     },
     "execution_count": 40,
     "metadata": {},
     "output_type": "execute_result"
    }
   ],
   "source": [
    "# to get new DataFrame with only items that satisfy condition\n",
    "marathon[marathon['gender']=='W']"
   ],
   "metadata": {
    "collapsed": false,
    "pycharm": {
     "name": "#%%\n"
    }
   }
  },
  {
   "cell_type": "code",
   "execution_count": 41,
   "outputs": [
    {
     "data": {
      "text/plain": "       age gender     split     final\n0       33      M  01:05:38  02:08:51\n1       32      M  01:06:26  02:09:28\n2       31      M  01:06:49  02:10:42\n3       38      M  01:06:16  02:13:45\n4       31      M  01:06:32  02:13:59\n...    ...    ...       ...       ...\n37244   32      W  04:15:33  09:32:56\n37246   36      M  04:35:43  09:33:28\n37247   51      M  04:22:35  09:33:40\n37248   55      W  04:58:06  10:00:40\n37249   58      W  04:59:49  10:01:08\n\n[31677 rows x 4 columns]",
      "text/html": "<div>\n<style scoped>\n    .dataframe tbody tr th:only-of-type {\n        vertical-align: middle;\n    }\n\n    .dataframe tbody tr th {\n        vertical-align: top;\n    }\n\n    .dataframe thead th {\n        text-align: right;\n    }\n</style>\n<table border=\"1\" class=\"dataframe\">\n  <thead>\n    <tr style=\"text-align: right;\">\n      <th></th>\n      <th>age</th>\n      <th>gender</th>\n      <th>split</th>\n      <th>final</th>\n    </tr>\n  </thead>\n  <tbody>\n    <tr>\n      <th>0</th>\n      <td>33</td>\n      <td>M</td>\n      <td>01:05:38</td>\n      <td>02:08:51</td>\n    </tr>\n    <tr>\n      <th>1</th>\n      <td>32</td>\n      <td>M</td>\n      <td>01:06:26</td>\n      <td>02:09:28</td>\n    </tr>\n    <tr>\n      <th>2</th>\n      <td>31</td>\n      <td>M</td>\n      <td>01:06:49</td>\n      <td>02:10:42</td>\n    </tr>\n    <tr>\n      <th>3</th>\n      <td>38</td>\n      <td>M</td>\n      <td>01:06:16</td>\n      <td>02:13:45</td>\n    </tr>\n    <tr>\n      <th>4</th>\n      <td>31</td>\n      <td>M</td>\n      <td>01:06:32</td>\n      <td>02:13:59</td>\n    </tr>\n    <tr>\n      <th>...</th>\n      <td>...</td>\n      <td>...</td>\n      <td>...</td>\n      <td>...</td>\n    </tr>\n    <tr>\n      <th>37244</th>\n      <td>32</td>\n      <td>W</td>\n      <td>04:15:33</td>\n      <td>09:32:56</td>\n    </tr>\n    <tr>\n      <th>37246</th>\n      <td>36</td>\n      <td>M</td>\n      <td>04:35:43</td>\n      <td>09:33:28</td>\n    </tr>\n    <tr>\n      <th>37247</th>\n      <td>51</td>\n      <td>M</td>\n      <td>04:22:35</td>\n      <td>09:33:40</td>\n    </tr>\n    <tr>\n      <th>37248</th>\n      <td>55</td>\n      <td>W</td>\n      <td>04:58:06</td>\n      <td>10:00:40</td>\n    </tr>\n    <tr>\n      <th>37249</th>\n      <td>58</td>\n      <td>W</td>\n      <td>04:59:49</td>\n      <td>10:01:08</td>\n    </tr>\n  </tbody>\n</table>\n<p>31677 rows × 4 columns</p>\n</div>"
     },
     "execution_count": 41,
     "metadata": {},
     "output_type": "execute_result"
    }
   ],
   "source": [
    "marathon[marathon['age']>=30]"
   ],
   "metadata": {
    "collapsed": false,
    "pycharm": {
     "name": "#%%\n"
    }
   }
  },
  {
   "cell_type": "code",
   "execution_count": 42,
   "outputs": [
    {
     "data": {
      "text/plain": "       age gender     split     final\n0       33      M  01:05:38  02:08:51\n1       32      M  01:06:26  02:09:28\n2       31      M  01:06:49  02:10:42\n3       38      M  01:06:16  02:13:45\n4       31      M  01:06:32  02:13:59\n...    ...    ...       ...       ...\n37245   18      M  04:24:24  09:32:57\n37246   36      M  04:35:43  09:33:28\n37247   51      M  04:22:35  09:33:40\n37248   55      W  04:58:06  10:00:40\n37249   58      W  04:59:49  10:01:08\n\n[31742 rows x 4 columns]",
      "text/html": "<div>\n<style scoped>\n    .dataframe tbody tr th:only-of-type {\n        vertical-align: middle;\n    }\n\n    .dataframe tbody tr th {\n        vertical-align: top;\n    }\n\n    .dataframe thead th {\n        text-align: right;\n    }\n</style>\n<table border=\"1\" class=\"dataframe\">\n  <thead>\n    <tr style=\"text-align: right;\">\n      <th></th>\n      <th>age</th>\n      <th>gender</th>\n      <th>split</th>\n      <th>final</th>\n    </tr>\n  </thead>\n  <tbody>\n    <tr>\n      <th>0</th>\n      <td>33</td>\n      <td>M</td>\n      <td>01:05:38</td>\n      <td>02:08:51</td>\n    </tr>\n    <tr>\n      <th>1</th>\n      <td>32</td>\n      <td>M</td>\n      <td>01:06:26</td>\n      <td>02:09:28</td>\n    </tr>\n    <tr>\n      <th>2</th>\n      <td>31</td>\n      <td>M</td>\n      <td>01:06:49</td>\n      <td>02:10:42</td>\n    </tr>\n    <tr>\n      <th>3</th>\n      <td>38</td>\n      <td>M</td>\n      <td>01:06:16</td>\n      <td>02:13:45</td>\n    </tr>\n    <tr>\n      <th>4</th>\n      <td>31</td>\n      <td>M</td>\n      <td>01:06:32</td>\n      <td>02:13:59</td>\n    </tr>\n    <tr>\n      <th>...</th>\n      <td>...</td>\n      <td>...</td>\n      <td>...</td>\n      <td>...</td>\n    </tr>\n    <tr>\n      <th>37245</th>\n      <td>18</td>\n      <td>M</td>\n      <td>04:24:24</td>\n      <td>09:32:57</td>\n    </tr>\n    <tr>\n      <th>37246</th>\n      <td>36</td>\n      <td>M</td>\n      <td>04:35:43</td>\n      <td>09:33:28</td>\n    </tr>\n    <tr>\n      <th>37247</th>\n      <td>51</td>\n      <td>M</td>\n      <td>04:22:35</td>\n      <td>09:33:40</td>\n    </tr>\n    <tr>\n      <th>37248</th>\n      <td>55</td>\n      <td>W</td>\n      <td>04:58:06</td>\n      <td>10:00:40</td>\n    </tr>\n    <tr>\n      <th>37249</th>\n      <td>58</td>\n      <td>W</td>\n      <td>04:59:49</td>\n      <td>10:01:08</td>\n    </tr>\n  </tbody>\n</table>\n<p>31742 rows × 4 columns</p>\n</div>"
     },
     "execution_count": 42,
     "metadata": {},
     "output_type": "execute_result"
    }
   ],
   "source": [
    "marathon[(marathon['age']>=30) | (marathon['age']<=18)]"
   ],
   "metadata": {
    "collapsed": false,
    "pycharm": {
     "name": "#%%\n"
    }
   }
  },
  {
   "cell_type": "code",
   "execution_count": 43,
   "outputs": [
    {
     "data": {
      "text/plain": "       age gender     split     final\n0       33      M  01:05:38  02:08:51\n1       32      M  01:06:26  02:09:28\n2       31      M  01:06:49  02:10:42\n4       31      M  01:06:32  02:13:59\n5       31      M  01:06:13  02:14:11\n...    ...    ...       ...       ...\n37147   34      W  03:15:01  08:12:37\n37182   31      W  03:23:49  08:24:47\n37213   34      M  03:00:44  08:39:33\n37231   35      W  02:53:57  08:54:12\n37244   32      W  04:15:33  09:32:56\n\n[5601 rows x 4 columns]",
      "text/html": "<div>\n<style scoped>\n    .dataframe tbody tr th:only-of-type {\n        vertical-align: middle;\n    }\n\n    .dataframe tbody tr th {\n        vertical-align: top;\n    }\n\n    .dataframe thead th {\n        text-align: right;\n    }\n</style>\n<table border=\"1\" class=\"dataframe\">\n  <thead>\n    <tr style=\"text-align: right;\">\n      <th></th>\n      <th>age</th>\n      <th>gender</th>\n      <th>split</th>\n      <th>final</th>\n    </tr>\n  </thead>\n  <tbody>\n    <tr>\n      <th>0</th>\n      <td>33</td>\n      <td>M</td>\n      <td>01:05:38</td>\n      <td>02:08:51</td>\n    </tr>\n    <tr>\n      <th>1</th>\n      <td>32</td>\n      <td>M</td>\n      <td>01:06:26</td>\n      <td>02:09:28</td>\n    </tr>\n    <tr>\n      <th>2</th>\n      <td>31</td>\n      <td>M</td>\n      <td>01:06:49</td>\n      <td>02:10:42</td>\n    </tr>\n    <tr>\n      <th>4</th>\n      <td>31</td>\n      <td>M</td>\n      <td>01:06:32</td>\n      <td>02:13:59</td>\n    </tr>\n    <tr>\n      <th>5</th>\n      <td>31</td>\n      <td>M</td>\n      <td>01:06:13</td>\n      <td>02:14:11</td>\n    </tr>\n    <tr>\n      <th>...</th>\n      <td>...</td>\n      <td>...</td>\n      <td>...</td>\n      <td>...</td>\n    </tr>\n    <tr>\n      <th>37147</th>\n      <td>34</td>\n      <td>W</td>\n      <td>03:15:01</td>\n      <td>08:12:37</td>\n    </tr>\n    <tr>\n      <th>37182</th>\n      <td>31</td>\n      <td>W</td>\n      <td>03:23:49</td>\n      <td>08:24:47</td>\n    </tr>\n    <tr>\n      <th>37213</th>\n      <td>34</td>\n      <td>M</td>\n      <td>03:00:44</td>\n      <td>08:39:33</td>\n    </tr>\n    <tr>\n      <th>37231</th>\n      <td>35</td>\n      <td>W</td>\n      <td>02:53:57</td>\n      <td>08:54:12</td>\n    </tr>\n    <tr>\n      <th>37244</th>\n      <td>32</td>\n      <td>W</td>\n      <td>04:15:33</td>\n      <td>09:32:56</td>\n    </tr>\n  </tbody>\n</table>\n<p>5601 rows × 4 columns</p>\n</div>"
     },
     "execution_count": 43,
     "metadata": {},
     "output_type": "execute_result"
    }
   ],
   "source": [
    "# .isin() function is quicker\n",
    "marathon[marathon['age'].isin([31,32,33,34,35])]"
   ],
   "metadata": {
    "collapsed": false,
    "pycharm": {
     "name": "#%%\n"
    }
   }
  },
  {
   "cell_type": "code",
   "execution_count": 44,
   "outputs": [
    {
     "data": {
      "text/plain": "       age gender     split     final\n1       32      M  01:06:26  02:09:28\n2       31      M  01:06:49  02:10:42\n4       31      M  01:06:32  02:13:59\n5       31      M  01:06:13  02:14:11\n6       27      M  01:06:40  02:14:28\n...    ...    ...       ...       ...\n37226   24      M  03:34:01  08:49:36\n37228   24      W  03:35:21  08:50:47\n37233   27      W  03:37:49  08:57:41\n37244   32      W  04:15:33  09:32:56\n37245   18      M  04:24:24  09:32:57\n\n[8942 rows x 4 columns]",
      "text/html": "<div>\n<style scoped>\n    .dataframe tbody tr th:only-of-type {\n        vertical-align: middle;\n    }\n\n    .dataframe tbody tr th {\n        vertical-align: top;\n    }\n\n    .dataframe thead th {\n        text-align: right;\n    }\n</style>\n<table border=\"1\" class=\"dataframe\">\n  <thead>\n    <tr style=\"text-align: right;\">\n      <th></th>\n      <th>age</th>\n      <th>gender</th>\n      <th>split</th>\n      <th>final</th>\n    </tr>\n  </thead>\n  <tbody>\n    <tr>\n      <th>1</th>\n      <td>32</td>\n      <td>M</td>\n      <td>01:06:26</td>\n      <td>02:09:28</td>\n    </tr>\n    <tr>\n      <th>2</th>\n      <td>31</td>\n      <td>M</td>\n      <td>01:06:49</td>\n      <td>02:10:42</td>\n    </tr>\n    <tr>\n      <th>4</th>\n      <td>31</td>\n      <td>M</td>\n      <td>01:06:32</td>\n      <td>02:13:59</td>\n    </tr>\n    <tr>\n      <th>5</th>\n      <td>31</td>\n      <td>M</td>\n      <td>01:06:13</td>\n      <td>02:14:11</td>\n    </tr>\n    <tr>\n      <th>6</th>\n      <td>27</td>\n      <td>M</td>\n      <td>01:06:40</td>\n      <td>02:14:28</td>\n    </tr>\n    <tr>\n      <th>...</th>\n      <td>...</td>\n      <td>...</td>\n      <td>...</td>\n      <td>...</td>\n    </tr>\n    <tr>\n      <th>37226</th>\n      <td>24</td>\n      <td>M</td>\n      <td>03:34:01</td>\n      <td>08:49:36</td>\n    </tr>\n    <tr>\n      <th>37228</th>\n      <td>24</td>\n      <td>W</td>\n      <td>03:35:21</td>\n      <td>08:50:47</td>\n    </tr>\n    <tr>\n      <th>37233</th>\n      <td>27</td>\n      <td>W</td>\n      <td>03:37:49</td>\n      <td>08:57:41</td>\n    </tr>\n    <tr>\n      <th>37244</th>\n      <td>32</td>\n      <td>W</td>\n      <td>04:15:33</td>\n      <td>09:32:56</td>\n    </tr>\n    <tr>\n      <th>37245</th>\n      <td>18</td>\n      <td>M</td>\n      <td>04:24:24</td>\n      <td>09:32:57</td>\n    </tr>\n  </tbody>\n</table>\n<p>8942 rows × 4 columns</p>\n</div>"
     },
     "execution_count": 44,
     "metadata": {},
     "output_type": "execute_result"
    }
   ],
   "source": [
    "# to get lower quartile of ages\n",
    "marathon[marathon['age'] < marathon['age'].quantile(0.25)]"
   ],
   "metadata": {
    "collapsed": false,
    "pycharm": {
     "name": "#%%\n"
    }
   }
  },
  {
   "cell_type": "markdown",
   "source": [
    "## Applying functions"
   ],
   "metadata": {
    "collapsed": false,
    "pycharm": {
     "name": "#%% md\n"
    }
   }
  },
  {
   "cell_type": "markdown",
   "source": [
    "It is possible to iterate over a DataFrame like you would a list. But this is very slow. instead, ues the apply() function"
   ],
   "metadata": {
    "collapsed": false,
    "pycharm": {
     "name": "#%% md\n"
    }
   }
  },
  {
   "cell_type": "code",
   "execution_count": 45,
   "outputs": [],
   "source": [
    "def is_old(x):\n",
    "    if x > 40:\n",
    "        return True\n",
    "    else:\n",
    "        return False"
   ],
   "metadata": {
    "collapsed": false,
    "pycharm": {
     "name": "#%%\n"
    }
   }
  },
  {
   "cell_type": "code",
   "execution_count": 46,
   "outputs": [],
   "source": [
    "marathon['isOld'] = marathon['age'].apply(is_old)"
   ],
   "metadata": {
    "collapsed": false,
    "pycharm": {
     "name": "#%%\n"
    }
   }
  },
  {
   "cell_type": "code",
   "execution_count": 47,
   "outputs": [
    {
     "data": {
      "text/plain": "0        False\n1        False\n2        False\n3        False\n4        False\n         ...  \n37245    False\n37246    False\n37247     True\n37248     True\n37249     True\nName: isOld, Length: 37250, dtype: bool"
     },
     "execution_count": 47,
     "metadata": {},
     "output_type": "execute_result"
    }
   ],
   "source": [
    "marathon['isOld']"
   ],
   "metadata": {
    "collapsed": false,
    "pycharm": {
     "name": "#%%\n"
    }
   }
  },
  {
   "cell_type": "code",
   "execution_count": 48,
   "outputs": [
    {
     "data": {
      "text/plain": "       age gender     split     final  isOld\n0       33      M  01:05:38  02:08:51  False\n1       32      M  01:06:26  02:09:28  False\n2       31      M  01:06:49  02:10:42  False\n3       38      M  01:06:16  02:13:45  False\n4       31      M  01:06:32  02:13:59  False\n...    ...    ...       ...       ...    ...\n37245   18      M  04:24:24  09:32:57  False\n37246   36      M  04:35:43  09:33:28  False\n37247   51      M  04:22:35  09:33:40   True\n37248   55      W  04:58:06  10:00:40   True\n37249   58      W  04:59:49  10:01:08   True\n\n[37250 rows x 5 columns]",
      "text/html": "<div>\n<style scoped>\n    .dataframe tbody tr th:only-of-type {\n        vertical-align: middle;\n    }\n\n    .dataframe tbody tr th {\n        vertical-align: top;\n    }\n\n    .dataframe thead th {\n        text-align: right;\n    }\n</style>\n<table border=\"1\" class=\"dataframe\">\n  <thead>\n    <tr style=\"text-align: right;\">\n      <th></th>\n      <th>age</th>\n      <th>gender</th>\n      <th>split</th>\n      <th>final</th>\n      <th>isOld</th>\n    </tr>\n  </thead>\n  <tbody>\n    <tr>\n      <th>0</th>\n      <td>33</td>\n      <td>M</td>\n      <td>01:05:38</td>\n      <td>02:08:51</td>\n      <td>False</td>\n    </tr>\n    <tr>\n      <th>1</th>\n      <td>32</td>\n      <td>M</td>\n      <td>01:06:26</td>\n      <td>02:09:28</td>\n      <td>False</td>\n    </tr>\n    <tr>\n      <th>2</th>\n      <td>31</td>\n      <td>M</td>\n      <td>01:06:49</td>\n      <td>02:10:42</td>\n      <td>False</td>\n    </tr>\n    <tr>\n      <th>3</th>\n      <td>38</td>\n      <td>M</td>\n      <td>01:06:16</td>\n      <td>02:13:45</td>\n      <td>False</td>\n    </tr>\n    <tr>\n      <th>4</th>\n      <td>31</td>\n      <td>M</td>\n      <td>01:06:32</td>\n      <td>02:13:59</td>\n      <td>False</td>\n    </tr>\n    <tr>\n      <th>...</th>\n      <td>...</td>\n      <td>...</td>\n      <td>...</td>\n      <td>...</td>\n      <td>...</td>\n    </tr>\n    <tr>\n      <th>37245</th>\n      <td>18</td>\n      <td>M</td>\n      <td>04:24:24</td>\n      <td>09:32:57</td>\n      <td>False</td>\n    </tr>\n    <tr>\n      <th>37246</th>\n      <td>36</td>\n      <td>M</td>\n      <td>04:35:43</td>\n      <td>09:33:28</td>\n      <td>False</td>\n    </tr>\n    <tr>\n      <th>37247</th>\n      <td>51</td>\n      <td>M</td>\n      <td>04:22:35</td>\n      <td>09:33:40</td>\n      <td>True</td>\n    </tr>\n    <tr>\n      <th>37248</th>\n      <td>55</td>\n      <td>W</td>\n      <td>04:58:06</td>\n      <td>10:00:40</td>\n      <td>True</td>\n    </tr>\n    <tr>\n      <th>37249</th>\n      <td>58</td>\n      <td>W</td>\n      <td>04:59:49</td>\n      <td>10:01:08</td>\n      <td>True</td>\n    </tr>\n  </tbody>\n</table>\n<p>37250 rows × 5 columns</p>\n</div>"
     },
     "execution_count": 48,
     "metadata": {},
     "output_type": "execute_result"
    }
   ],
   "source": [
    "marathon"
   ],
   "metadata": {
    "collapsed": false,
    "pycharm": {
     "name": "#%%\n"
    }
   }
  },
  {
   "cell_type": "code",
   "execution_count": 48,
   "outputs": [],
   "source": [],
   "metadata": {
    "collapsed": false,
    "pycharm": {
     "name": "#%%\n"
    }
   }
  }
 ],
 "metadata": {
  "kernelspec": {
   "display_name": "Python 3",
   "language": "python",
   "name": "python3"
  },
  "language_info": {
   "codemirror_mode": {
    "name": "ipython",
    "version": 2
   },
   "file_extension": ".py",
   "mimetype": "text/x-python",
   "name": "python",
   "nbconvert_exporter": "python",
   "pygments_lexer": "ipython2",
   "version": "2.7.6"
  }
 },
 "nbformat": 4,
 "nbformat_minor": 0
}